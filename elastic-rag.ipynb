{
 "cells": [
  {
   "cell_type": "markdown",
   "id": "ce7df5a8-b0c2-45a3-960a-a3bb3171157d",
   "metadata": {},
   "source": [
    "Searching in the documents\n",
    "Create a nootebook \"elastic-rag\" or something like that. We will use it for our experiments\n",
    "\n",
    "First, we need to download the docs:\n",
    "\n",
    "```\n",
    "wget https://github.com/alexeygrigorev/llm-rag-workshop/raw/main/notebooks/documents.json\n",
    "```\n",
    "\n",
    "Let's load the documents"
   ]
  },
  {
   "cell_type": "code",
   "execution_count": 1,
   "id": "ce9a196f-c008-489e-afcd-457570fc287b",
   "metadata": {},
   "outputs": [],
   "source": [
    "import json\n",
    "\n",
    "with open('./documents.json', 'rt') as f_in:\n",
    "    documents_file = json.load(f_in)\n",
    "\n",
    "documents = []\n",
    "\n",
    "for course in documents_file:\n",
    "    course_name = course['course']\n",
    "\n",
    "    for doc in course['documents']:\n",
    "        doc['course'] = course_name\n",
    "        documents.append(doc)"
   ]
  },
  {
   "cell_type": "markdown",
   "id": "e4f65320-7808-4292-a32e-d79680970947",
   "metadata": {},
   "source": [
    "Now we'll index these documents with elastic search\n",
    "\n",
    "First initiate the connection and check that it's working:"
   ]
  },
  {
   "cell_type": "code",
   "execution_count": 2,
   "id": "859594e1-4551-44cf-ae2b-40d26046cb5f",
   "metadata": {},
   "outputs": [
    {
     "data": {
      "text/plain": [
       "ObjectApiResponse({'name': '101dc291a5e6', 'cluster_name': 'docker-cluster', 'cluster_uuid': 'i6Ev5IAmQgaTtcxcMIry_Q', 'version': {'number': '8.4.3', 'build_flavor': 'default', 'build_type': 'docker', 'build_hash': '42f05b9372a9a4a470db3b52817899b99a76ee73', 'build_date': '2022-10-04T07:17:24.662462378Z', 'build_snapshot': False, 'lucene_version': '9.3.0', 'minimum_wire_compatibility_version': '7.17.0', 'minimum_index_compatibility_version': '7.0.0'}, 'tagline': 'You Know, for Search'})"
      ]
     },
     "execution_count": 2,
     "metadata": {},
     "output_type": "execute_result"
    }
   ],
   "source": [
    "from elasticsearch import Elasticsearch\n",
    "\n",
    "es = Elasticsearch(\"http://localhost:9200\")\n",
    "es.info()"
   ]
  },
  {
   "cell_type": "markdown",
   "id": "8a035634-d4a0-462e-89b3-ce6de8b1f503",
   "metadata": {},
   "source": [
    "We soo th same response as earlier wit `curl`.\n",
    "\n",
    "Before we can index the documents, we need to create an index (an index in elasticsearch is like a table in a \"usual\" database):"
   ]
  },
  {
   "cell_type": "code",
   "execution_count": 3,
   "id": "b80b47b9-2772-4b1e-b9c4-c18e4b4e4a28",
   "metadata": {},
   "outputs": [
    {
     "data": {
      "text/plain": [
       "ObjectApiResponse({'acknowledged': True, 'shards_acknowledged': True, 'index': 'course-questions'})"
      ]
     },
     "execution_count": 3,
     "metadata": {},
     "output_type": "execute_result"
    }
   ],
   "source": [
    "index_settings = {\n",
    "    \"settings\": {\n",
    "        \"number_of_shards\": 1,\n",
    "        \"number_of_replicas\": 0\n",
    "    },\n",
    "    \"mappings\": {\n",
    "        \"properties\": {\n",
    "            \"text\": {\"type\": \"text\"},\n",
    "            \"section\": {\"type\": \"text\"},\n",
    "            \"question\": {\"type\": \"text\"},\n",
    "            \"course\": {\"type\": \"keyword\"} \n",
    "        }\n",
    "    }\n",
    "}\n",
    "\n",
    "index_name = \"course-questions\"\n",
    "response = es.indices.create(index=index_name, body=index_settings)\n",
    "\n",
    "response"
   ]
  },
  {
   "cell_type": "markdown",
   "id": "7585af19-db81-4e5d-9b28-422d6e5fb922",
   "metadata": {},
   "source": [
    "Now we're ready to index all the documents:"
   ]
  },
  {
   "cell_type": "code",
   "execution_count": 4,
   "id": "e10466a4-16e3-4792-bf48-a03875f7ae9d",
   "metadata": {},
   "outputs": [
    {
     "name": "stderr",
     "output_type": "stream",
     "text": [
      "/home/codespace/.local/share/virtualenvs/llm-workshop-6SKzmvse/lib/python3.10/site-packages/tqdm/auto.py:21: TqdmWarning: IProgress not found. Please update jupyter and ipywidgets. See https://ipywidgets.readthedocs.io/en/stable/user_install.html\n",
      "  from .autonotebook import tqdm as notebook_tqdm\n",
      "100%|███████████████████████████████████████████████████████████████████████| 948/948 [00:21<00:00, 43.75it/s]\n"
     ]
    }
   ],
   "source": [
    "from tqdm.auto import tqdm\n",
    "\n",
    "for doc in tqdm(documents):\n",
    "    es.index(index=index_name, document=doc)"
   ]
  },
  {
   "cell_type": "markdown",
   "id": "07edabf5-7d91-474b-8359-53d0803a43dc",
   "metadata": {},
   "source": [
    "## Retreiving the documents"
   ]
  },
  {
   "cell_type": "code",
   "execution_count": 5,
   "id": "6a71f207-44f9-4469-b548-041f0e559a9d",
   "metadata": {},
   "outputs": [],
   "source": [
    "user_question = \"How do I join the course after it has started?\"\n",
    "\n",
    "search_query = {\n",
    "    \"size\": 5,\n",
    "    \"query\": {\n",
    "        \"bool\": {\n",
    "            \"must\": {\n",
    "                \"multi_match\": {\n",
    "                    \"query\": user_question,\n",
    "                    \"fields\": [\"question^3\", \"text\", \"section\"],\n",
    "                    \"type\": \"best_fields\"\n",
    "                }\n",
    "            },\n",
    "            \"filter\": {\n",
    "                \"term\": {\n",
    "                    \"course\": \"data-engineering-zoomcamp\"\n",
    "                }\n",
    "            }\n",
    "        }\n",
    "    }\n",
    "}"
   ]
  },
  {
   "cell_type": "markdown",
   "id": "7f843ea3-c4e4-4bb2-b441-fb65548b1c8c",
   "metadata": {},
   "source": [
    "This query:\n",
    "\n",
    "- Retrieves top 5 matching documents.\n",
    "- Searches in the \"question\", \"text\", \"section\" fields, prioritizing \"question\" using `multi_match` query with type `best_fields` (see [here](https://github.com/DataTalksClub/llm-zoomcamp/blob/main/01-intro/elastic-search.md) for more information)\n",
    "- Matches user query \"How do I join the course after it has started?\".\n",
    "- Shows results only for the \"data-engineering-zoomcamp\" course.\n",
    "Let's see the output:"
   ]
  },
  {
   "cell_type": "code",
   "execution_count": 6,
   "id": "b29694bb-f2ea-4223-aa71-1f32d2f39917",
   "metadata": {},
   "outputs": [
    {
     "name": "stdout",
     "output_type": "stream",
     "text": [
      "Section: General course-related questions\n",
      "Question: Course - Can I still join the course after the start date?\n",
      "Answer: Yes, even if you don't register, you're still eligible to su...\n",
      "\n",
      "Section: General course-related questions\n",
      "Question: Course - Can I follow the course after it finishes?\n",
      "Answer: Yes, we will keep all the materials after the course finishe...\n",
      "\n",
      "Section: General course-related questions\n",
      "Question: Course - What can I do before the course starts?\n",
      "Answer: You can start by installing and setting up all the dependenc...\n",
      "\n",
      "Section: General course-related questions\n",
      "Question: How do I use Git / GitHub for this course?\n",
      "Answer: After you create a GitHub account, you should clone the cour...\n",
      "\n",
      "Section: Workshop 1 - dlthub\n",
      "Question: How do I install the necessary dependencies to run the code?\n",
      "Answer: Answer: To run the provided code, ensure that the 'dlt[duckd...\n",
      "\n"
     ]
    }
   ],
   "source": [
    "response = es.search(index=index_name, body=search_query)\n",
    "\n",
    "for hit in response['hits']['hits']:\n",
    "    doc = hit['_source']\n",
    "    print(f\"Section: {doc['section']}\")\n",
    "    print(f\"Question: {doc['question']}\")\n",
    "    print(f\"Answer: {doc['text'][:60]}...\\n\")"
   ]
  },
  {
   "cell_type": "markdown",
   "id": "aeb2b26f-76fc-4ad9-958e-7a0addbe4c9a",
   "metadata": {},
   "source": [
    "### Cleaned up version\n",
    "Run this separately\n"
   ]
  },
  {
   "cell_type": "code",
   "execution_count": 13,
   "id": "2e2cffe5-d7c2-4f7d-8171-cc91dd2a8b94",
   "metadata": {},
   "outputs": [],
   "source": [
    "def retrieve_documents(query, index_name=\"course-questions\", max_results=5):\n",
    "    es = Elasticsearch(\"http://localhost:9200\")\n",
    "    \n",
    "    search_query ={\n",
    "        \"size\": max_results,\n",
    "        \"query\": {\n",
    "            \"bool\": {\n",
    "                \"must\": {\n",
    "                    \"multi_match\": {\n",
    "                        \"query\": query,\n",
    "                        \"fields\": [\"question^3\", \"text\", \"section\"],\n",
    "                        \"type\": \"best_fields\"\n",
    "                    }\n",
    "                },\n",
    "                \"filter\": {\n",
    "                    \"term\": {\n",
    "                        \"course\": \"data-engineering-zoomcamp\"\n",
    "                    }\n",
    "                }\n",
    "            }\n",
    "        }\n",
    "    }\n",
    "\n",
    "    response = es.search(index=index_name, body=search_query)\n",
    "    documents = [hit['_source'] for hit in response['hits']['hits']]\n",
    "    return documents\n",
    "                "
   ]
  },
  {
   "cell_type": "markdown",
   "id": "3c1ebe7c-ebeb-4966-bd46-5070a8ed1e38",
   "metadata": {},
   "source": [
    "And print the answers:"
   ]
  },
  {
   "cell_type": "code",
   "execution_count": 14,
   "id": "d11e7746-0ac2-4990-9279-31f6684e9cee",
   "metadata": {},
   "outputs": [
    {
     "name": "stdout",
     "output_type": "stream",
     "text": [
      "Section: General course-related questions\n",
      "Question: Course - Can I still join the course after the start date?\n",
      "Answer: Yes, even if you don't register, you're still eligible to su...\n",
      "\n",
      "Section: General course-related questions\n",
      "Question: Course - Can I follow the course after it finishes?\n",
      "Answer: Yes, we will keep all the materials after the course finishe...\n",
      "\n",
      "Section: General course-related questions\n",
      "Question: Course - What can I do before the course starts?\n",
      "Answer: You can start by installing and setting up all the dependenc...\n",
      "\n",
      "Section: General course-related questions\n",
      "Question: How do I use Git / GitHub for this course?\n",
      "Answer: After you create a GitHub account, you should clone the cour...\n",
      "\n",
      "Section: Workshop 1 - dlthub\n",
      "Question: How do I install the necessary dependencies to run the code?\n",
      "Answer: Answer: To run the provided code, ensure that the 'dlt[duckd...\n",
      "\n"
     ]
    }
   ],
   "source": [
    "user_question = \"How do I join the course after it has started?\"\n",
    "\n",
    "response = retrieve_documents(user_question)\n",
    "\n",
    "for doc in response:\n",
    "    print(f\"Section: {doc['section']}\")\n",
    "    print(f\"Question: {doc['question']}\")\n",
    "    print(f\"Answer: {doc['text'][:60]}...\\n\")"
   ]
  },
  {
   "cell_type": "markdown",
   "id": "40437d45-0287-441c-94c8-8167d888fd10",
   "metadata": {},
   "source": [
    "# Generation - Making up answers to questions"
   ]
  },
  {
   "cell_type": "markdown",
   "id": "24e2b599-d675-49b6-a29d-8a365c2118e1",
   "metadata": {},
   "source": [
    "Time for the \"G\" part - generation - based on the R part.\n",
    "\n",
    "### OpenAI\n",
    "The easiest way to get started is the OpenAI API. A little later we will learn how to use open-source models.\n",
    "\n",
    "Make sure the SDK is installed and a key is set.\n",
    "\n",
    "This is how we communicate with a chatty GPT:\n"
   ]
  },
  {
   "cell_type": "raw",
   "id": "1397cf22-d258-4b0c-a917-0041a9da8213",
   "metadata": {},
   "source": [
    "from openai import OpenAI\n",
    "\n",
    "client = OpenAI()\n",
    "\n",
    "response = client.chat.completions.create(\n",
    "    model=\"gpt-4o\",\n",
    "    messages=[{\"role\": \"user\", \"content\": \"The course already started. What do I do? Will I need pants?\"}]\n",
    ")\n",
    "print(response.choices[0].message.content)"
   ]
  },
  {
   "cell_type": "markdown",
   "id": "4dc9aafa-ad44-455b-8729-2a52a3b87a7f",
   "metadata": {},
   "source": [
    "### Building a Prompt\n",
    "---\n",
    "\n",
    "Here are more words\n"
   ]
  },
  {
   "cell_type": "code",
   "execution_count": 22,
   "id": "31262271-28b3-4721-ac69-9268bfb4e9c5",
   "metadata": {},
   "outputs": [
    {
     "name": "stdout",
     "output_type": "stream",
     "text": [
      "Section: General course-related questions\n",
      "Question: Course - Can I still join the course after the start date?\n",
      "Answer: Yes, even if you don't register, you're still eligible to submit the homeworks.\n",
      "Be aware, however, that there will be deadlines for turning in the final projects. So don't leave everything for the last minute.\n",
      "\n",
      "Section: General course-related questions\n",
      "Question: Course - Can I follow the course after it finishes?\n",
      "Answer: Yes, we will keep all the materials after the course finishes, so you can follow the course at your own pace after it finishes.\n",
      "You can also continue looking at the homeworks and continue preparing for the next cohort. I guess you can also start working on your final capstone project.\n",
      "\n",
      "Section: General course-related questions\n",
      "Question: Course - What can I do before the course starts?\n",
      "Answer: You can start by installing and setting up all the dependencies and requirements:\n",
      "Google cloud account\n",
      "Google Cloud SDK\n",
      "Python 3 (installed with Anaconda)\n",
      "Terraform\n",
      "Git\n",
      "Look over the prerequisites and syllabus to see if you are comfortable with these subjects.\n",
      "\n",
      "Section: General course-related questions\n",
      "Question: How do I use Git / GitHub for this course?\n",
      "Answer: After you create a GitHub account, you should clone the course repo to your local machine using the process outlined in this video: Git for Everybody: How to Clone a Repository from GitHub\n",
      "Having this local repository on your computer will make it easy for you to access the instructors’ code and make pull requests (if you want to add your own notes or make changes to the course content).\n",
      "You will probably also create your own repositories that host your notes, versions of your file, to do this. Here is a great tutorial that shows you how to do this: https://www.atlassian.com/git/tutorials/setting-up-a-repository\n",
      "Remember to ignore large database, .csv, and .gz files, and other files that should not be saved to a repository. Use .gitignore for this: https://www.atlassian.com/git/tutorials/saving-changes/gitignore NEVER store passwords or keys in a git repo (even if that repo is set to private).\n",
      "This is also a great resource: https://dangitgit.com/\n",
      "\n",
      "Section: Workshop 1 - dlthub\n",
      "Question: How do I install the necessary dependencies to run the code?\n",
      "Answer: Answer: To run the provided code, ensure that the 'dlt[duckdb]' package is installed. You can do this by executing the provided installation command: !pip install dlt[duckdb]. If you’re doing it locally, be sure to also have duckdb pip installed (even before the duckdb package is loaded).\n"
     ]
    }
   ],
   "source": [
    "context_template = \"\"\"\n",
    "Section: {section}\n",
    "Question: {question}\n",
    "Answer: {text}\n",
    "\"\"\".strip()\n",
    "\n",
    "context_docs = retrieve_documents(user_question)\n",
    "\n",
    "context_result = \"\"\n",
    "\n",
    "for doc in context_docs:\n",
    "    doc_str = context_template.format(**doc)\n",
    "    context_result += (\"\\n\\n\" + doc_str)\n",
    "\n",
    "context = context_result.strip()\n",
    "print(context)"
   ]
  },
  {
   "cell_type": "markdown",
   "id": "3ac68201-c1b0-474c-b36a-542c56a4284d",
   "metadata": {},
   "source": [
    "Now build the actual prompt:"
   ]
  },
  {
   "cell_type": "code",
   "execution_count": 25,
   "id": "bbd42c10-a966-4bbe-84de-bc41b8dd915b",
   "metadata": {},
   "outputs": [],
   "source": [
    "prompt = f\"\"\"\n",
    "You're a course teaching assistant. Answer the QUESTION based on the CONTEXT - the documents retrieved from our FAQ database.\n",
    "Only use the facts from the CONTEXT. If the CONTEXT doesn't contain the answer, return \"NONE\"\n",
    "\n",
    "QUESTION: {user_question}\n",
    "\n",
    "CONTEXT:\n",
    "\n",
    "{context}\n",
    "\"\"\".strip()"
   ]
  },
  {
   "cell_type": "markdown",
   "id": "fb966de6-e76b-49a6-8365-8e886847ba09",
   "metadata": {},
   "source": [
    "Now we can send it to the OpenAI API:"
   ]
  },
  {
   "cell_type": "code",
   "execution_count": 26,
   "id": "cd107f18-0d75-4250-a2ff-fc3dfe1fa60f",
   "metadata": {},
   "outputs": [
    {
     "data": {
      "text/plain": [
       "'NONE'"
      ]
     },
     "execution_count": 26,
     "metadata": {},
     "output_type": "execute_result"
    }
   ],
   "source": [
    "response = client.chat.completions.create(\n",
    "    model=\"gpt-4o\",\n",
    "    messages=[{\"role\": \"user\", \"content\": prompt}]\n",
    ")\n",
    "answer = response.choices[0].message.content\n",
    "answer"
   ]
  },
  {
   "cell_type": "markdown",
   "id": "0b1c818e-9872-4e66-ade6-80ba53dcc974",
   "metadata": {},
   "source": [
    "Note: There are system and user prompts, we can experiment with them to make the design og the prompt cleaner."
   ]
  },
  {
   "cell_type": "markdown",
   "id": "7c673d72-9f97-465d-a9dd-1c24a83cff62",
   "metadata": {},
   "source": [
    "### Cleaning it up\n",
    "---\n",
    "Now let's put everything together in one function:"
   ]
  },
  {
   "cell_type": "code",
   "execution_count": 43,
   "id": "412e9e34-c031-4b6a-b24c-a85c2797d18f",
   "metadata": {},
   "outputs": [],
   "source": [
    "context_template = \"\"\"\n",
    "Section: {section}\n",
    "Question: {question}\n",
    "Answer: {text}\n",
    "\"\"\".strip()\n",
    "\n",
    "prompt_template = \"\"\"\n",
    "You're a course teaching assistant and salty sailor.\n",
    "Answer the QUESTION based on the CONTEXT - the documents retrieved from our FAQ database.\n",
    "Only use the facts from the CONTEXT. If the CONTEXT doesn't contain the answer, then tell a joke.\n",
    "Never say NONE\n",
    "\n",
    "QUESTION: {user_question}\n",
    "\n",
    "CONTEXT:\n",
    "\n",
    "{context}\n",
    "\"\"\".strip()\n",
    "\n",
    "def build_context(documents):\n",
    "    context_result = \"\"\n",
    "    \n",
    "    for doc in documents:\n",
    "        doc_str = context_template.format(**doc)\n",
    "        context_result += (\"\\n\\n\" + doc_str)\n",
    "    \n",
    "    return context_result.strip()\n",
    "\n",
    "\n",
    "def build_prompt(user_question, documents):\n",
    "    context = build_context(documents)\n",
    "    prompt = prompt_template.format(\n",
    "        user_question=user_question,\n",
    "        context=context\n",
    "    )\n",
    "    return prompt\n",
    "\n",
    "def ask_openai(prompt, model=\"gpt-4o\"):\n",
    "    response = client.chat.completions.create(\n",
    "        model=model,\n",
    "        messages=[{\"role\": \"user\", \"content\": prompt}]\n",
    "    )\n",
    "    answer = response.choices[0].message.content\n",
    "    return answer\n",
    "\n",
    "def qa_bot(user_question):\n",
    "    context_docs = retrieve_documents(user_question)\n",
    "    prompt = build_prompt(user_question, context_docs)\n",
    "    answer = ask_openai(prompt)\n",
    "    return answer"
   ]
  },
  {
   "cell_type": "markdown",
   "id": "1a37bc9f-eadc-4c7e-96b8-2f34d19727ac",
   "metadata": {},
   "source": [
    "Let's try asking some questions"
   ]
  },
  {
   "cell_type": "code",
   "execution_count": 44,
   "id": "1c3286c0-5312-47f7-ae35-180b4db09ece",
   "metadata": {},
   "outputs": [
    {
     "name": "stdout",
     "output_type": "stream",
     "text": [
      "Section: {section}\n",
      "Question: {question}\n",
      "Answer: {text}\n",
      "You're a course teaching assistant and salty sailor.\n",
      "Answer the QUESTION based on the CONTEXT - the documents retrieved from our FAQ database.\n",
      "Only use the facts from the CONTEXT. If the CONTEXT doesn't contain the answer, then tell a joke.\n",
      "Never say NONE\n",
      "\n",
      "QUESTION: {user_question}\n",
      "\n",
      "CONTEXT:\n",
      "\n",
      "{context}\n",
      "NONE\n"
     ]
    }
   ],
   "source": [
    "print(context_template)\n",
    "print(prompt_template)\n",
    "\n",
    "qa_bot(\"Has the course started already?\")\n",
    "print(answer)"
   ]
  },
  {
   "cell_type": "code",
   "execution_count": 45,
   "id": "6ff17319-72b3-4489-9dc1-1f16f1bb4d17",
   "metadata": {},
   "outputs": [
    {
     "data": {
      "text/plain": [
       "[{'text': \"Yes, even if you don't register, you're still eligible to submit the homeworks.\\nBe aware, however, that there will be deadlines for turning in the final projects. So don't leave everything for the last minute.\",\n",
       "  'section': 'General course-related questions',\n",
       "  'question': 'Course - Can I still join the course after the start date?',\n",
       "  'course': 'data-engineering-zoomcamp'},\n",
       " {'text': 'Yes, we will keep all the materials after the course finishes, so you can follow the course at your own pace after it finishes.\\nYou can also continue looking at the homeworks and continue preparing for the next cohort. I guess you can also start working on your final capstone project.',\n",
       "  'section': 'General course-related questions',\n",
       "  'question': 'Course - Can I follow the course after it finishes?',\n",
       "  'course': 'data-engineering-zoomcamp'},\n",
       " {'text': 'You can start by installing and setting up all the dependencies and requirements:\\nGoogle cloud account\\nGoogle Cloud SDK\\nPython 3 (installed with Anaconda)\\nTerraform\\nGit\\nLook over the prerequisites and syllabus to see if you are comfortable with these subjects.',\n",
       "  'section': 'General course-related questions',\n",
       "  'question': 'Course - What can I do before the course starts?',\n",
       "  'course': 'data-engineering-zoomcamp'},\n",
       " {'text': 'After you create a GitHub account, you should clone the course repo to your local machine using the process outlined in this video: Git for Everybody: How to Clone a Repository from GitHub\\nHaving this local repository on your computer will make it easy for you to access the instructors’ code and make pull requests (if you want to add your own notes or make changes to the course content).\\nYou will probably also create your own repositories that host your notes, versions of your file, to do this. Here is a great tutorial that shows you how to do this: https://www.atlassian.com/git/tutorials/setting-up-a-repository\\nRemember to ignore large database, .csv, and .gz files, and other files that should not be saved to a repository. Use .gitignore for this: https://www.atlassian.com/git/tutorials/saving-changes/gitignore NEVER store passwords or keys in a git repo (even if that repo is set to private).\\nThis is also a great resource: https://dangitgit.com/',\n",
       "  'section': 'General course-related questions',\n",
       "  'question': 'How do I use Git / GitHub for this course?',\n",
       "  'course': 'data-engineering-zoomcamp'},\n",
       " {'text': \"Answer: To run the provided code, ensure that the 'dlt[duckdb]' package is installed. You can do this by executing the provided installation command: !pip install dlt[duckdb]. If you’re doing it locally, be sure to also have duckdb pip installed (even before the duckdb package is loaded).\",\n",
       "  'section': 'Workshop 1 - dlthub',\n",
       "  'question': 'How do I install the necessary dependencies to run the code?',\n",
       "  'course': 'data-engineering-zoomcamp'}]"
      ]
     },
     "execution_count": 45,
     "metadata": {},
     "output_type": "execute_result"
    }
   ],
   "source": [
    "retrieve_documents(user_question)"
   ]
  },
  {
   "cell_type": "code",
   "execution_count": 46,
   "id": "f78ccd0a-974d-4411-89d4-cd08d3f3d133",
   "metadata": {},
   "outputs": [
    {
     "name": "stdout",
     "output_type": "stream",
     "text": [
      "NONE\n"
     ]
    }
   ],
   "source": [
    "print(answer)"
   ]
  },
  {
   "cell_type": "code",
   "execution_count": 47,
   "id": "384aa001-259e-4206-829b-0c8566991c4b",
   "metadata": {},
   "outputs": [
    {
     "data": {
      "text/plain": [
       "\"To run Kafka Java producer, consumer, or KStreams in the terminal, follow these steps in the project directory:\\n\\n```bash\\njava -cp build/libs/<jar_name>-1.0-SNAPSHOT.jar:out src/main/java/org/example/JsonProducer.java\\n``` \\n\\nThat's how you set sail with Kafka, matey! 🚢 If ye need more help, I can also teach ye how to navigate the high seas. 🌊\""
      ]
     },
     "execution_count": 47,
     "metadata": {},
     "output_type": "execute_result"
    }
   ],
   "source": [
    "qa_bot(\"how can I run kafka?\")"
   ]
  },
  {
   "cell_type": "code",
   "execution_count": 48,
   "id": "b67351d9-8552-4e05-b511-7af505db177b",
   "metadata": {},
   "outputs": [
    {
     "name": "stdout",
     "output_type": "stream",
     "text": [
      "NONE\n"
     ]
    }
   ],
   "source": []
  },
  {
   "cell_type": "code",
   "execution_count": null,
   "id": "2f37d46b-a48f-470a-b1db-cb4677756c6c",
   "metadata": {},
   "outputs": [],
   "source": []
  },
  {
   "cell_type": "code",
   "execution_count": null,
   "id": "cefcf8cd-d1aa-45fd-8e5d-1c7a153d5af8",
   "metadata": {},
   "outputs": [],
   "source": []
  },
  {
   "cell_type": "code",
   "execution_count": null,
   "id": "f7ffbba4-458e-4f3f-a7c0-f9b8a02182eb",
   "metadata": {},
   "outputs": [],
   "source": []
  },
  {
   "cell_type": "code",
   "execution_count": null,
   "id": "33d64563-899a-4b10-9d7e-aad249eec8cc",
   "metadata": {},
   "outputs": [],
   "source": []
  },
  {
   "cell_type": "code",
   "execution_count": null,
   "id": "6ef4dc65-78b8-4fc5-b706-425c7693419d",
   "metadata": {},
   "outputs": [],
   "source": []
  },
  {
   "cell_type": "code",
   "execution_count": null,
   "id": "545705e1-ac4a-4ce5-9e77-59b7e73cbde5",
   "metadata": {},
   "outputs": [],
   "source": []
  },
  {
   "cell_type": "code",
   "execution_count": 20,
   "id": "f8362001-8a56-4e72-8585-a67b554df337",
   "metadata": {},
   "outputs": [
    {
     "name": "stdout",
     "output_type": "stream",
     "text": [
      "In a Jupyter Notebook, you can add a horizontal line under a heading using Markdown syntax. Here's how you can do it:\n",
      "\n",
      "1. **Using Horizontal Rule (`---` or `___` or `***`)**:\n",
      "\n",
      "   You can use three or more hyphens (`-`), underscores (`_`), or asterisks (`*`) in a row to create a horizontal line.\n",
      "\n",
      "   ```markdown\n",
      "   # Heading Level 1\n",
      "   ---\n",
      "\n",
      "   ## Heading Level 2\n",
      "   ***\n",
      "\n",
      "   ### Heading Level 3\n",
      "   ___\n",
      "   ```\n",
      "\n",
      "2. **Using HTML (`<hr>` Tag)**:\n",
      "\n",
      "   Alternatively, you can use the HTML `<hr>` tag to insert a horizontal line.\n",
      "\n",
      "   ```markdown\n",
      "   # Heading Level 1\n",
      "   <hr>\n",
      "\n",
      "   ## Heading Level 2\n",
      "   <hr>\n",
      "\n",
      "   ### Heading Level 3\n",
      "   <hr>\n",
      "   ```\n",
      "\n",
      "### Example:\n",
      "\n",
      "```markdown\n",
      "# Heading Level 1\n",
      "---\n",
      "\n",
      "Here is some text under the heading.\n",
      "\n",
      "## Heading Level 2\n",
      "***\n",
      "\n",
      "More text under the second heading.\n",
      "\n",
      "### Heading Level 3\n",
      "___\n",
      "\n",
      "And yet more text under the third heading.\n",
      "```\n",
      "\n",
      "When you run the cell, you'll see the headings followed by horizontal lines.\n",
      "\n",
      "### Preview:\n",
      "\n",
      "```\n",
      "# Heading Level 1\n",
      "---\n",
      "\n",
      "Here is some text under the heading.\n",
      "\n",
      "## Heading Level 2\n",
      "***\n",
      "\n",
      "More text under the second heading.\n",
      "\n",
      "### Heading Level 3\n",
      "___\n",
      "\n",
      "And yet more text under the third heading.\n",
      "```\n",
      "\n",
      "The above Markdown code will render with horizontal lines under each heading when viewed in a Jupyter Notebook.\n"
     ]
    }
   ],
   "source": [
    "response = client.chat.completions.create(\n",
    "    model=\"gpt-4o\",\n",
    "    messages=[{\"role\": \"user\", \"content\": \"How to do I put a little line under a heading in jupyter notebook markdown?\"}]\n",
    ")\n",
    "print(response.choices[0].message.content)"
   ]
  },
  {
   "cell_type": "code",
   "execution_count": null,
   "id": "201edd37-e2f2-499e-a640-42c1a4c98f94",
   "metadata": {},
   "outputs": [],
   "source": []
  }
 ],
 "metadata": {
  "kernelspec": {
   "display_name": "Python 3 (ipykernel)",
   "language": "python",
   "name": "python3"
  },
  "language_info": {
   "codemirror_mode": {
    "name": "ipython",
    "version": 3
   },
   "file_extension": ".py",
   "mimetype": "text/x-python",
   "name": "python",
   "nbconvert_exporter": "python",
   "pygments_lexer": "ipython3",
   "version": "3.10.13"
  }
 },
 "nbformat": 4,
 "nbformat_minor": 5
}
